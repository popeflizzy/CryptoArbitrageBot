{
 "cells": [
  {
   "cell_type": "code",
   "execution_count": 2,
   "id": "760f1a42-e77f-42d4-99f0-5406bb313425",
   "metadata": {},
   "outputs": [
    {
     "data": {
      "text/html": [
       "<div>\n",
       "<style scoped>\n",
       "    .dataframe tbody tr th:only-of-type {\n",
       "        vertical-align: middle;\n",
       "    }\n",
       "\n",
       "    .dataframe tbody tr th {\n",
       "        vertical-align: top;\n",
       "    }\n",
       "\n",
       "    .dataframe thead th {\n",
       "        text-align: right;\n",
       "    }\n",
       "</style>\n",
       "<table border=\"1\" class=\"dataframe\">\n",
       "  <thead>\n",
       "    <tr style=\"text-align: right;\">\n",
       "      <th></th>\n",
       "      <th>exchange</th>\n",
       "      <th>timestamp</th>\n",
       "      <th>price</th>\n",
       "    </tr>\n",
       "  </thead>\n",
       "  <tbody>\n",
       "    <tr>\n",
       "      <th>0</th>\n",
       "      <td>binance</td>\n",
       "      <td>2025-10-10 13:17:08.013000+00:00</td>\n",
       "      <td>121796.51</td>\n",
       "    </tr>\n",
       "  </tbody>\n",
       "</table>\n",
       "</div>"
      ],
      "text/plain": [
       "  exchange                        timestamp      price\n",
       "0  binance 2025-10-10 13:17:08.013000+00:00  121796.51"
      ]
     },
     "metadata": {},
     "output_type": "display_data"
    },
    {
     "data": {
      "text/html": [
       "<div>\n",
       "<style scoped>\n",
       "    .dataframe tbody tr th:only-of-type {\n",
       "        vertical-align: middle;\n",
       "    }\n",
       "\n",
       "    .dataframe tbody tr th {\n",
       "        vertical-align: top;\n",
       "    }\n",
       "\n",
       "    .dataframe thead th {\n",
       "        text-align: right;\n",
       "    }\n",
       "</style>\n",
       "<table border=\"1\" class=\"dataframe\">\n",
       "  <thead>\n",
       "    <tr style=\"text-align: right;\">\n",
       "      <th></th>\n",
       "      <th>exchange</th>\n",
       "      <th>timestamp</th>\n",
       "      <th>price</th>\n",
       "    </tr>\n",
       "  </thead>\n",
       "  <tbody>\n",
       "    <tr>\n",
       "      <th>0</th>\n",
       "      <td>coinbase</td>\n",
       "      <td>2025-10-10 13:17:11.293000+00:00</td>\n",
       "      <td>121813.39</td>\n",
       "    </tr>\n",
       "  </tbody>\n",
       "</table>\n",
       "</div>"
      ],
      "text/plain": [
       "   exchange                        timestamp      price\n",
       "0  coinbase 2025-10-10 13:17:11.293000+00:00  121813.39"
      ]
     },
     "metadata": {},
     "output_type": "display_data"
    }
   ],
   "source": [
    "import ccxt\n",
    "import pandas as pd\n",
    "from datetime import datetime\n",
    "\n",
    "# Initialize exchanges\n",
    "binance = ccxt.binance({'enableRateLimit': True})\n",
    "coinbase = ccxt.coinbase({'enableRateLimit': True})\n",
    "\n",
    "pair = 'BTC/USDT'\n",
    "\n",
    "# Fetch ticker data\n",
    "ticker_binance = binance.fetch_ticker(pair)\n",
    "ticker_coinbase = coinbase.fetch_ticker(pair)\n",
    "\n",
    "# Create DataFrames\n",
    "df_binance = pd.DataFrame([{\n",
    "    'exchange': 'binance',\n",
    "    'timestamp': pd.to_datetime(ticker_binance['timestamp'], unit='ms', utc=True),\n",
    "    'price': ticker_binance['last']\n",
    "}])\n",
    "\n",
    "df_coinbase = pd.DataFrame([{\n",
    "    'exchange': 'coinbase',\n",
    "    'timestamp': pd.to_datetime(ticker_coinbase['timestamp'], unit='ms', utc=True),\n",
    "    'price': ticker_coinbase['last']\n",
    "}])\n",
    "\n",
    "display(df_binance)\n",
    "display(df_coinbase)\n"
   ]
  },
  {
   "cell_type": "code",
   "execution_count": 3,
   "id": "79063535-017f-4000-a4eb-15dfe63dbda0",
   "metadata": {},
   "outputs": [
    {
     "data": {
      "text/html": [
       "<div>\n",
       "<style scoped>\n",
       "    .dataframe tbody tr th:only-of-type {\n",
       "        vertical-align: middle;\n",
       "    }\n",
       "\n",
       "    .dataframe tbody tr th {\n",
       "        vertical-align: top;\n",
       "    }\n",
       "\n",
       "    .dataframe thead th {\n",
       "        text-align: right;\n",
       "    }\n",
       "</style>\n",
       "<table border=\"1\" class=\"dataframe\">\n",
       "  <thead>\n",
       "    <tr style=\"text-align: right;\">\n",
       "      <th>exchange</th>\n",
       "      <th>binance</th>\n",
       "      <th>coinbase</th>\n",
       "    </tr>\n",
       "    <tr>\n",
       "      <th>timestamp</th>\n",
       "      <th></th>\n",
       "      <th></th>\n",
       "    </tr>\n",
       "  </thead>\n",
       "  <tbody>\n",
       "    <tr>\n",
       "      <th>2025-10-10 13:17:08.013000+00:00</th>\n",
       "      <td>121796.51</td>\n",
       "      <td>NaN</td>\n",
       "    </tr>\n",
       "    <tr>\n",
       "      <th>2025-10-10 13:17:11.293000+00:00</th>\n",
       "      <td>NaN</td>\n",
       "      <td>121813.39</td>\n",
       "    </tr>\n",
       "  </tbody>\n",
       "</table>\n",
       "</div>"
      ],
      "text/plain": [
       "exchange                            binance   coinbase\n",
       "timestamp                                             \n",
       "2025-10-10 13:17:08.013000+00:00  121796.51        NaN\n",
       "2025-10-10 13:17:11.293000+00:00        NaN  121813.39"
      ]
     },
     "execution_count": 3,
     "metadata": {},
     "output_type": "execute_result"
    }
   ],
   "source": [
    "# Combine into one table\n",
    "df = pd.concat([df_binance, df_coinbase], ignore_index=True)\n",
    "\n",
    "# Pivot the data so each exchange has its own column\n",
    "aligned = df.pivot_table(index='timestamp', columns='exchange', values='price')\n",
    "\n",
    "aligned\n"
   ]
  },
  {
   "cell_type": "code",
   "execution_count": 4,
   "id": "b5a28826-dc07-449a-9364-c8b8f0b95f47",
   "metadata": {},
   "outputs": [
    {
     "data": {
      "text/html": [
       "<div>\n",
       "<style scoped>\n",
       "    .dataframe tbody tr th:only-of-type {\n",
       "        vertical-align: middle;\n",
       "    }\n",
       "\n",
       "    .dataframe tbody tr th {\n",
       "        vertical-align: top;\n",
       "    }\n",
       "\n",
       "    .dataframe thead th {\n",
       "        text-align: right;\n",
       "    }\n",
       "</style>\n",
       "<table border=\"1\" class=\"dataframe\">\n",
       "  <thead>\n",
       "    <tr style=\"text-align: right;\">\n",
       "      <th>exchange</th>\n",
       "      <th>binance</th>\n",
       "      <th>coinbase</th>\n",
       "      <th>spread</th>\n",
       "      <th>spread_%</th>\n",
       "    </tr>\n",
       "    <tr>\n",
       "      <th>timestamp</th>\n",
       "      <th></th>\n",
       "      <th></th>\n",
       "      <th></th>\n",
       "      <th></th>\n",
       "    </tr>\n",
       "  </thead>\n",
       "  <tbody>\n",
       "    <tr>\n",
       "      <th>2025-10-10 13:17:08.013000+00:00</th>\n",
       "      <td>121796.51</td>\n",
       "      <td>NaN</td>\n",
       "      <td>NaN</td>\n",
       "      <td>NaN</td>\n",
       "    </tr>\n",
       "    <tr>\n",
       "      <th>2025-10-10 13:17:11.293000+00:00</th>\n",
       "      <td>NaN</td>\n",
       "      <td>121813.39</td>\n",
       "      <td>NaN</td>\n",
       "      <td>NaN</td>\n",
       "    </tr>\n",
       "  </tbody>\n",
       "</table>\n",
       "</div>"
      ],
      "text/plain": [
       "exchange                            binance   coinbase  spread  spread_%\n",
       "timestamp                                                               \n",
       "2025-10-10 13:17:08.013000+00:00  121796.51        NaN     NaN       NaN\n",
       "2025-10-10 13:17:11.293000+00:00        NaN  121813.39     NaN       NaN"
      ]
     },
     "execution_count": 4,
     "metadata": {},
     "output_type": "execute_result"
    }
   ],
   "source": [
    "aligned['spread'] = aligned['coinbase'] - aligned['binance']\n",
    "aligned['spread_%'] = (aligned['spread'] / aligned.mean(axis=1)) * 100\n",
    "aligned\n"
   ]
  },
  {
   "cell_type": "code",
   "execution_count": 5,
   "id": "4bf901ef-d6b2-42f4-8299-f7a00afc87fb",
   "metadata": {},
   "outputs": [
    {
     "data": {
      "image/png": "[encoded data removed]",
      "text/plain": [
       "<Figure size 800x400 with 1 Axes>"
      ]
     },
     "metadata": {},
     "output_type": "display_data"
    },
    {
     "data": {
      "image/png": "[encoded data removed]",
      "text/plain": [
       "<Figure size 800x300 with 1 Axes>"
      ]
     },
     "metadata": {},
     "output_type": "display_data"
    }
   ],
   "source": [
    "import matplotlib.pyplot as plt\n",
    "\n",
    "aligned[['binance', 'coinbase']].plot(title='BTC/USDT Prices (UTC aligned)', figsize=(8,4))\n",
    "plt.ylabel('Price (USD)')\n",
    "plt.show()\n",
    "\n",
    "aligned['spread_%'].plot(title='Relative Spread (%)', figsize=(8,3))\n",
    "plt.ylabel('Spread %')\n",
    "plt.show()\n"
   ]
  },
  {
   "cell_type": "code",
   "execution_count": 6,
   "id": "a69f697a-268b-463e-98ca-c9cd8de7f2fd",
   "metadata": {},
   "outputs": [
    {
     "name": "stderr",
     "output_type": "stream",
     "text": [
      "C:\\Users\\akhen\\AppData\\Local\\Temp\\ipykernel_14024\\2534367775.py:8: DeprecationWarning: datetime.datetime.utcnow() is deprecated and scheduled for removal in a future version. Use timezone-aware objects to represent datetimes in UTC: datetime.datetime.now(datetime.UTC).\n",
      "  now = datetime.utcnow()\n"
     ]
    },
    {
     "name": "stdout",
     "output_type": "stream",
     "text": [
      "2025-10-10 13:17:16.323420 | Spread: 6.61\n",
      "2025-10-10 13:17:27.260066 | Spread: 6.78\n",
      "2025-10-10 13:17:37.871656 | Spread: 8.29\n",
      "2025-10-10 13:17:48.485276 | Spread: 8.29\n",
      "2025-10-10 13:17:59.480237 | Spread: 16.30\n"
     ]
    },
    {
     "data": {
      "text/html": [
       "<div>\n",
       "<style scoped>\n",
       "    .dataframe tbody tr th:only-of-type {\n",
       "        vertical-align: middle;\n",
       "    }\n",
       "\n",
       "    .dataframe tbody tr th {\n",
       "        vertical-align: top;\n",
       "    }\n",
       "\n",
       "    .dataframe thead th {\n",
       "        text-align: right;\n",
       "    }\n",
       "</style>\n",
       "<table border=\"1\" class=\"dataframe\">\n",
       "  <thead>\n",
       "    <tr style=\"text-align: right;\">\n",
       "      <th></th>\n",
       "      <th>time</th>\n",
       "      <th>binance</th>\n",
       "      <th>coinbase</th>\n",
       "      <th>spread</th>\n",
       "    </tr>\n",
       "  </thead>\n",
       "  <tbody>\n",
       "    <tr>\n",
       "      <th>0</th>\n",
       "      <td>2025-10-10 13:17:16.323420</td>\n",
       "      <td>121800.85</td>\n",
       "      <td>121807.46</td>\n",
       "      <td>6.61</td>\n",
       "    </tr>\n",
       "    <tr>\n",
       "      <th>1</th>\n",
       "      <td>2025-10-10 13:17:27.260066</td>\n",
       "      <td>121770.05</td>\n",
       "      <td>121776.83</td>\n",
       "      <td>6.78</td>\n",
       "    </tr>\n",
       "    <tr>\n",
       "      <th>2</th>\n",
       "      <td>2025-10-10 13:17:37.871656</td>\n",
       "      <td>121754.33</td>\n",
       "      <td>121762.62</td>\n",
       "      <td>8.29</td>\n",
       "    </tr>\n",
       "    <tr>\n",
       "      <th>3</th>\n",
       "      <td>2025-10-10 13:17:48.485276</td>\n",
       "      <td>121754.33</td>\n",
       "      <td>121762.62</td>\n",
       "      <td>8.29</td>\n",
       "    </tr>\n",
       "    <tr>\n",
       "      <th>4</th>\n",
       "      <td>2025-10-10 13:17:59.480237</td>\n",
       "      <td>121763.03</td>\n",
       "      <td>121779.33</td>\n",
       "      <td>16.30</td>\n",
       "    </tr>\n",
       "  </tbody>\n",
       "</table>\n",
       "</div>"
      ],
      "text/plain": [
       "                        time    binance   coinbase  spread\n",
       "0 2025-10-10 13:17:16.323420  121800.85  121807.46    6.61\n",
       "1 2025-10-10 13:17:27.260066  121770.05  121776.83    6.78\n",
       "2 2025-10-10 13:17:37.871656  121754.33  121762.62    8.29\n",
       "3 2025-10-10 13:17:48.485276  121754.33  121762.62    8.29\n",
       "4 2025-10-10 13:17:59.480237  121763.03  121779.33   16.30"
      ]
     },
     "execution_count": 6,
     "metadata": {},
     "output_type": "execute_result"
    }
   ],
   "source": [
    "import time\n",
    "\n",
    "records = []\n",
    "\n",
    "for _ in range(5):\n",
    "    tb = binance.fetch_ticker(pair)\n",
    "    tc = coinbase.fetch_ticker(pair)\n",
    "    now = datetime.utcnow()\n",
    "\n",
    "    records.append({\n",
    "        'time': now,\n",
    "        'binance': tb['last'],\n",
    "        'coinbase': tc['last'],\n",
    "        'spread': tc['last'] - tb['last']\n",
    "    })\n",
    "    \n",
    "    print(f\"{now} | Spread: {tc['last'] - tb['last']:.2f}\")\n",
    "    time.sleep(10)  # wait 10 seconds\n",
    "\n",
    "df_ticks = pd.DataFrame(records)\n",
    "df_ticks\n"
   ]
  }
 ],
 "metadata": {
  "kernelspec": {
   "display_name": "Python 3 (ipykernel)",
   "language": "python",
   "name": "python3"
  },
  "language_info": {
   "codemirror_mode": {
    "name": "ipython",
    "version": 3
   },
   "file_extension": ".py",
   "mimetype": "text/x-python",
   "name": "python",
   "nbconvert_exporter": "python",
   "pygments_lexer": "ipython3",
   "version": "3.13.8"
  }
 },
 "nbformat": 4,
 "nbformat_minor": 5
}
