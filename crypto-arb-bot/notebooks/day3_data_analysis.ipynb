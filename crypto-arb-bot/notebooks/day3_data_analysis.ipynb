{
 "cells": [
  {
   "cell_type": "code",
   "execution_count": 1,
   "id": "520f0583-1794-4308-bd2f-ed3f7f1ce9bf",
   "metadata": {},
   "outputs": [
    {
     "name": "stdout",
     "output_type": "stream",
     "text": [
      "Found files: ['../data\\\\BTC_USDT_20251010_123638.json']\n",
      "Loaded file: ../data\\BTC_USDT_20251010_123638.json\n"
     ]
    }
   ],
   "source": [
    "import pandas as pd\n",
    "import json\n",
    "import glob\n",
    "\n",
    "# Find your saved JSON files (from Day 2)\n",
    "files = glob.glob('../data/*.json')\n",
    "if not files:\n",
    "    raise FileNotFoundError('No JSON files found in ../data/. Run fetch_data.py first.')\n",
    "\n",
    "print('Found files:', files)\n",
    "\n",
    "# Load the latest file\n",
    "with open(files[-1]) as f:\n",
    "    data = json.load(f)\n",
    "\n",
    "print('Loaded file:', files[-1])\n"
   ]
  },
  {
   "cell_type": "code",
   "execution_count": 2,
   "id": "1c9dfafe-12d5-47f5-bee2-8e4486360e96",
   "metadata": {},
   "outputs": [
    {
     "data": {
      "text/plain": [
       "['timestamp', 'pair', 'ticker', 'orderbook', 'recent_trades']"
      ]
     },
     "execution_count": 2,
     "metadata": {},
     "output_type": "execute_result"
    }
   ],
   "source": [
    "list(data.keys())\n"
   ]
  },
  {
   "cell_type": "code",
   "execution_count": 3,
   "id": "35557ad1-94b0-48cf-98c6-530bb5688b58",
   "metadata": {},
   "outputs": [
    {
     "data": {
      "text/html": [
       "<div>\n",
       "<style scoped>\n",
       "    .dataframe tbody tr th:only-of-type {\n",
       "        vertical-align: middle;\n",
       "    }\n",
       "\n",
       "    .dataframe tbody tr th {\n",
       "        vertical-align: top;\n",
       "    }\n",
       "\n",
       "    .dataframe thead th {\n",
       "        text-align: right;\n",
       "    }\n",
       "</style>\n",
       "<table border=\"1\" class=\"dataframe\">\n",
       "  <thead>\n",
       "    <tr style=\"text-align: right;\">\n",
       "      <th></th>\n",
       "      <th>timestamp</th>\n",
       "      <th>bid</th>\n",
       "      <th>ask</th>\n",
       "      <th>last</th>\n",
       "    </tr>\n",
       "  </thead>\n",
       "  <tbody>\n",
       "    <tr>\n",
       "      <th>0</th>\n",
       "      <td>2025-10-10 12:36:38.557385</td>\n",
       "      <td>121550.59</td>\n",
       "      <td>121550.6</td>\n",
       "      <td>121550.6</td>\n",
       "    </tr>\n",
       "  </tbody>\n",
       "</table>\n",
       "</div>"
      ],
      "text/plain": [
       "                   timestamp        bid       ask      last\n",
       "0 2025-10-10 12:36:38.557385  121550.59  121550.6  121550.6"
      ]
     },
     "execution_count": 3,
     "metadata": {},
     "output_type": "execute_result"
    }
   ],
   "source": [
    "ticker = data['ticker']\n",
    "\n",
    "df = pd.DataFrame([{\n",
    "    'timestamp': pd.to_datetime(data['timestamp']),\n",
    "    'bid': ticker['bid'],\n",
    "    'ask': ticker['ask'],\n",
    "    'last': ticker['last']\n",
    "}])\n",
    "df\n"
   ]
  },
  {
   "cell_type": "code",
   "execution_count": 4,
   "id": "0625c488-3e4d-4152-90bd-ab3073c628a3",
   "metadata": {},
   "outputs": [
    {
     "data": {
      "text/html": [
       "<div>\n",
       "<style scoped>\n",
       "    .dataframe tbody tr th:only-of-type {\n",
       "        vertical-align: middle;\n",
       "    }\n",
       "\n",
       "    .dataframe tbody tr th {\n",
       "        vertical-align: top;\n",
       "    }\n",
       "\n",
       "    .dataframe thead th {\n",
       "        text-align: right;\n",
       "    }\n",
       "</style>\n",
       "<table border=\"1\" class=\"dataframe\">\n",
       "  <thead>\n",
       "    <tr style=\"text-align: right;\">\n",
       "      <th></th>\n",
       "      <th>timestamp</th>\n",
       "      <th>bid</th>\n",
       "      <th>ask</th>\n",
       "      <th>last</th>\n",
       "      <th>mid</th>\n",
       "      <th>spread</th>\n",
       "      <th>rel_spread_%</th>\n",
       "    </tr>\n",
       "  </thead>\n",
       "  <tbody>\n",
       "    <tr>\n",
       "      <th>0</th>\n",
       "      <td>2025-10-10 12:36:38.557385</td>\n",
       "      <td>121550.59</td>\n",
       "      <td>121550.6</td>\n",
       "      <td>121550.6</td>\n",
       "      <td>121550.595</td>\n",
       "      <td>0.01</td>\n",
       "      <td>0.000008</td>\n",
       "    </tr>\n",
       "  </tbody>\n",
       "</table>\n",
       "</div>"
      ],
      "text/plain": [
       "                   timestamp        bid       ask      last         mid  \\\n",
       "0 2025-10-10 12:36:38.557385  121550.59  121550.6  121550.6  121550.595   \n",
       "\n",
       "   spread  rel_spread_%  \n",
       "0    0.01      0.000008  "
      ]
     },
     "execution_count": 4,
     "metadata": {},
     "output_type": "execute_result"
    }
   ],
   "source": [
    "df['mid'] = (df['bid'] + df['ask']) / 2\n",
    "df['spread'] = df['ask'] - df['bid']\n",
    "df['rel_spread_%'] = (df['spread'] / df['mid']) * 100\n",
    "df\n"
   ]
  },
  {
   "cell_type": "code",
   "execution_count": 5,
   "id": "e0a880d0-708d-4139-843e-d98e51bbf170",
   "metadata": {},
   "outputs": [
    {
     "data": {
      "image/png": "[encoded data removed]",
      "text/plain": [
       "<Figure size 600x400 with 1 Axes>"
      ]
     },
     "metadata": {},
     "output_type": "display_data"
    }
   ],
   "source": [
    "import matplotlib.pyplot as plt\n",
    "\n",
    "plt.figure(figsize=(6,4))\n",
    "plt.bar(['Bid', 'Mid', 'Ask'], [df['bid'][0], df['mid'][0], df['ask'][0]], color=['green', 'blue', 'red'])\n",
    "plt.title('Bid–Mid–Ask Visualization')\n",
    "plt.ylabel('Price (USD)')\n",
    "plt.show()\n"
   ]
  },
  {
   "cell_type": "code",
   "execution_count": 6,
   "id": "8d403b5c-d145-437c-a993-2c3329b62789",
   "metadata": {},
   "outputs": [
    {
     "name": "stdout",
     "output_type": "stream",
     "text": [
      "Saved processed data to ../data/ticker_analysis.csv\n"
     ]
    }
   ],
   "source": [
    "output_path = '../data/ticker_analysis.csv'\n",
    "df.to_csv(output_path, index=False)\n",
    "print(f'Saved processed data to {output_path}')\n"
   ]
  },
  {
   "cell_type": "markdown",
   "id": "c800cb47-c866-4f4e-8e1d-2100cf715940",
   "metadata": {},
   "source": [
    "### 🧠 Reflection / Notes\n",
    "- Loaded live JSON from Day 2 and converted it to a structured DataFrame.  \n",
    "- Computed mid-price, spread, and relative spread.  \n",
    "- Visualized bid-mid-ask relationship for clarity.  \n",
    "- Saved processed data for future use (backtesting / visualization).  \n",
    "- Next: Work with timestamps and alignment between multiple exchanges (Day 4).\n"
   ]
  }
 ],
 "metadata": {
  "kernelspec": {
   "display_name": "Python 3 (ipykernel)",
   "language": "python",
   "name": "python3"
  },
  "language_info": {
   "codemirror_mode": {
    "name": "ipython",
    "version": 3
   },
   "file_extension": ".py",
   "mimetype": "text/x-python",
   "name": "python",
   "nbconvert_exporter": "python",
   "pygments_lexer": "ipython3",
   "version": "3.13.8"
  }
 },
 "nbformat": 4,
 "nbformat_minor": 5
}
