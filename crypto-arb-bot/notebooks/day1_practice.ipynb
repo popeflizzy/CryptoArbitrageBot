{
 "cells": [
  {
   "cell_type": "markdown",
   "id": "5722d392",
   "metadata": {},
   "source": [
    "# 🧠 Day 1 – Python Fundamentals for Crypto Arbitrage Bot\n",
    "---"
   ]
  },
  {
   "cell_type": "markdown",
   "id": "cf410c1f",
   "metadata": {},
   "source": [
    "### 🧩 Section 1: Environment Check"
   ]
  },
  {
   "cell_type": "code",
   "execution_count": 1,
   "id": "f8dc0050",
   "metadata": {},
   "outputs": [
    {
     "name": "stdout",
     "output_type": "stream",
     "text": [
      "Python version: 3.13.8 (tags/v3.13.8:a15ae61, Oct  7 2025, 12:34:25) [MSC v.1944 64 bit (AMD64)]\n",
      "Current working directory: C:\\Users\\akhen\\Documents\\DipperProjects\\crypto-arb-bot\\notebooks\n"
     ]
    }
   ],
   "source": [
    "# Check Python environment and imports\n",
    "import sys, os\n",
    "print('Python version:', sys.version)\n",
    "print('Current working directory:', os.getcwd())"
   ]
  },
  {
   "cell_type": "markdown",
   "id": "bbef4f85",
   "metadata": {},
   "source": [
    "### 🧮 Section 2: Core Python Practice"
   ]
  },
  {
   "cell_type": "code",
   "execution_count": 2,
   "id": "747a1c81",
   "metadata": {},
   "outputs": [
    {
     "name": "stdout",
     "output_type": "stream",
     "text": [
      "Price difference for BTC/USDT: $49.30\n"
     ]
    }
   ],
   "source": [
    "# Example: A simple trade simulation setup\n",
    "crypto_pair = 'BTC/USDT'\n",
    "binance_price = 64321.50\n",
    "coinbase_price = 64370.80\n",
    "\n",
    "spread = coinbase_price - binance_price\n",
    "print(f'Price difference for {crypto_pair}: ${spread:.2f}')"
   ]
  },
  {
   "cell_type": "code",
   "execution_count": 3,
   "id": "f0e141de",
   "metadata": {},
   "outputs": [
    {
     "name": "stdout",
     "output_type": "stream",
     "text": [
      "Spread %: 0.07661686052701351\n"
     ]
    }
   ],
   "source": [
    "# Function to calculate percentage spread\n",
    "def percent_spread(price_a, price_b):\n",
    "    \"\"\"Return the percentage difference between two exchange prices.\"\"\"\n",
    "    return abs(price_a - price_b) / ((price_a + price_b) / 2) * 100\n",
    "\n",
    "print('Spread %:', percent_spread(binance_price, coinbase_price))"
   ]
  },
  {
   "cell_type": "code",
   "execution_count": 4,
   "id": "f1225172",
   "metadata": {},
   "outputs": [
    {
     "name": "stdout",
     "output_type": "stream",
     "text": [
      "5.0\n",
      "Division by zero detected! Returning None.\n",
      "None\n"
     ]
    }
   ],
   "source": [
    "# Handle errors safely (like invalid API data or zero division)\n",
    "def safe_divide(a, b):\n",
    "    try:\n",
    "        return a / b\n",
    "    except ZeroDivisionError:\n",
    "        print('Division by zero detected! Returning None.')\n",
    "        return None\n",
    "\n",
    "print(safe_divide(10, 2))\n",
    "print(safe_divide(10, 0))"
   ]
  },
  {
   "cell_type": "markdown",
   "id": "decfa0b5",
   "metadata": {},
   "source": [
    "### 📦 Section 3: Working with Lists and Dicts (Real Data Simulation)"
   ]
  },
  {
   "cell_type": "code",
   "execution_count": 5,
   "id": "97e07cc9",
   "metadata": {},
   "outputs": [
    {
     "name": "stdout",
     "output_type": "stream",
     "text": [
      "Buy from kraken at 64315.9 and sell on coinbase at 64370.8\n",
      "Spread: 54.900000000001455\n"
     ]
    }
   ],
   "source": [
    "# Simulate a few exchange prices\n",
    "prices = {\n",
    "    'binance': 64321.5,\n",
    "    'coinbase': 64370.8,\n",
    "    'kraken': 64315.9\n",
    "}\n",
    "\n",
    "# Find best buy/sell opportunities\n",
    "best_buy = min(prices, key=prices.get)\n",
    "best_sell = max(prices, key=prices.get)\n",
    "\n",
    "print(f'Buy from {best_buy} at {prices[best_buy]} and sell on {best_sell} at {prices[best_sell]}')\n",
    "print('Spread:', prices[best_sell] - prices[best_buy])"
   ]
  },
  {
   "cell_type": "markdown",
   "id": "b5f003c6",
   "metadata": {},
   "source": [
    "### 📊 Section 4: Simple Data Visualization"
   ]
  },
  {
   "cell_type": "code",
   "execution_count": 6,
   "id": "b1993b09",
   "metadata": {},
   "outputs": [
    {
     "data": {
      "image/png": "[encoded data removed]",
      "text/plain": [
       "<Figure size 640x480 with 1 Axes>"
      ]
     },
     "metadata": {},
     "output_type": "display_data"
    }
   ],
   "source": [
    "import matplotlib.pyplot as plt\n",
    "\n",
    "plt.bar(prices.keys(), prices.values(), color='skyblue')\n",
    "plt.title('Exchange Prices for BTC/USDT')\n",
    "plt.ylabel('Price (USD)')\n",
    "plt.show()"
   ]
  },
  {
   "cell_type": "markdown",
   "id": "5f9e6e00",
   "metadata": {},
   "source": [
    "### 📘 Section 5: Reflection / Notes\n",
    "- Learned to structure Python functions around financial logic.\n",
    "- Practiced exception handling for API safety.\n",
    "- Simulated and visualized spreads across exchanges.\n",
    "- Next: Automate fetching this data from real APIs using ccxt."
   ]
  }
 ],
 "metadata": {
  "kernelspec": {
   "display_name": "Python 3 (ipykernel)",
   "language": "python",
   "name": "python3"
  },
  "language_info": {
   "codemirror_mode": {
    "name": "ipython",
    "version": 3
   },
   "file_extension": ".py",
   "mimetype": "text/x-python",
   "name": "python",
   "nbconvert_exporter": "python",
   "pygments_lexer": "ipython3",
   "version": "3.13.8"
  }
 },
 "nbformat": 4,
 "nbformat_minor": 5
}
