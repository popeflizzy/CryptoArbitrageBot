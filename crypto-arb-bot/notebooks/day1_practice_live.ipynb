{
 "cells": [
  {
   "cell_type": "markdown",
   "id": "e67501d4",
   "metadata": {},
   "source": [
    "# 🧠 Day 1 – Python Fundamentals with Live Market Data\n",
    "---"
   ]
  },
  {
   "cell_type": "markdown",
   "id": "9e14c959",
   "metadata": {},
   "source": [
    "### 🧩 Section 1: Environment Check"
   ]
  },
  {
   "cell_type": "code",
   "execution_count": 5,
   "id": "49b02648",
   "metadata": {},
   "outputs": [
    {
     "name": "stdout",
     "output_type": "stream",
     "text": [
      "Python version: 3.13.8 (tags/v3.13.8:a15ae61, Oct  7 2025, 12:34:25) [MSC v.1944 64 bit (AMD64)]\n",
      "Current working directory: C:\\Users\\akhen\\Documents\\DipperProjects\\crypto-arb-bot\\notebooks\n"
     ]
    }
   ],
   "source": [
    "# Check Python environment and imports\n",
    "import sys, os\n",
    "print('Python version:', sys.version)\n",
    "print('Current working directory:', os.getcwd())"
   ]
  },
  {
   "cell_type": "markdown",
   "id": "6bd5b4b9",
   "metadata": {},
   "source": [
    "### ⚙️ Section 2: Live Data from Exchanges"
   ]
  },
  {
   "cell_type": "code",
   "execution_count": 2,
   "id": "62c21e1e",
   "metadata": {},
   "outputs": [
    {
     "data": {
      "text/plain": [
       "{'binance': 121544.4, 'coinbase': 121504.58, 'kraken': 121561.4}"
      ]
     },
     "execution_count": 2,
     "metadata": {},
     "output_type": "execute_result"
    }
   ],
   "source": [
    "# Install ccxt if not installed (uncomment if needed)\n",
    "# !pip install ccxt matplotlib\n",
    "\n",
    "import ccxt\n",
    "import matplotlib.pyplot as plt\n",
    "\n",
    "# Initialize exchange connections (public data only)\n",
    "binance = ccxt.binance({'enableRateLimit': True})\n",
    "coinbase = ccxt.coinbase({'enableRateLimit': True})\n",
    "kraken = ccxt.kraken({'enableRateLimit': True})\n",
    "\n",
    "# Fetch live ticker data for BTC/USDT\n",
    "def fetch_price(exchange, pair='BTC/USDT'):\n",
    "    try:\n",
    "        ticker = exchange.fetch_ticker(pair)\n",
    "        return ticker['last']\n",
    "    except Exception as e:\n",
    "        print(exchange.id, 'error:', e)\n",
    "        return None\n",
    "\n",
    "prices = {\n",
    "    'binance': fetch_price(binance),\n",
    "    'coinbase': fetch_price(coinbase),\n",
    "    'kraken': fetch_price(kraken)\n",
    "}\n",
    "prices"
   ]
  },
  {
   "cell_type": "markdown",
   "id": "802be684",
   "metadata": {},
   "source": [
    "### 💰 Section 3: Compute Live Spreads"
   ]
  },
  {
   "cell_type": "code",
   "execution_count": 3,
   "id": "3cca85bf",
   "metadata": {},
   "outputs": [
    {
     "name": "stdout",
     "output_type": "stream",
     "text": [
      "Buy on coinbase at 121504.58, sell on kraken at 121561.40\n",
      "Spread: $56.82 (0.047%)\n"
     ]
    }
   ],
   "source": [
    "# Remove None values\n",
    "prices = {k:v for k,v in prices.items() if v}\n",
    "\n",
    "best_buy = min(prices, key=prices.get)\n",
    "best_sell = max(prices, key=prices.get)\n",
    "spread = prices[best_sell] - prices[best_buy]\n",
    "percent_spread = spread / ((prices[best_sell] + prices[best_buy])/2) * 100\n",
    "\n",
    "print(f'Buy on {best_buy} at {prices[best_buy]:.2f}, sell on {best_sell} at {prices[best_sell]:.2f}')\n",
    "print(f'Spread: ${spread:.2f} ({percent_spread:.3f}%)')"
   ]
  },
  {
   "cell_type": "markdown",
   "id": "cf930bf1",
   "metadata": {},
   "source": [
    "### 📊 Section 4: Visualize Live Prices"
   ]
  },
  {
   "cell_type": "code",
   "execution_count": 4,
   "id": "5c51a7f3",
   "metadata": {},
   "outputs": [
    {
     "data": {
      "image/png": "[encoded data removed]",
      "text/plain": [
       "<Figure size 640x480 with 1 Axes>"
      ]
     },
     "metadata": {},
     "output_type": "display_data"
    }
   ],
   "source": [
    "plt.bar(prices.keys(), prices.values(), color='lightblue')\n",
    "plt.title('Live BTC/USDT Prices Across Exchanges')\n",
    "plt.ylabel('Price (USD)')\n",
    "plt.show()"
   ]
  },
  {
   "cell_type": "markdown",
   "id": "0cc1cdeb",
   "metadata": {},
   "source": [
    "### 📘 Section 5: Reflection / Notes\n",
    "- This notebook now fetches real-time data using ccxt.\n",
    "- Compared live BTC/USDT prices across multiple exchanges.\n",
    "- Computed live spreads and visualized market differences.\n",
    "- Next: Automate periodic data fetching and log historical spreads."
   ]
  }
 ],
 "metadata": {
  "kernelspec": {
   "display_name": "Python 3 (ipykernel)",
   "language": "python",
   "name": "python3"
  },
  "language_info": {
   "codemirror_mode": {
    "name": "ipython",
    "version": 3
   },
   "file_extension": ".py",
   "mimetype": "text/x-python",
   "name": "python",
   "nbconvert_exporter": "python",
   "pygments_lexer": "ipython3",
   "version": "3.13.8"
  }
 },
 "nbformat": 4,
 "nbformat_minor": 5
}
